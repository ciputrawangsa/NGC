{
 "cells": [
  {
   "cell_type": "markdown",
   "metadata": {},
   "source": [
    "## Task #1 - Number of Word"
   ]
  },
  {
   "cell_type": "code",
   "execution_count": 1,
   "metadata": {},
   "outputs": [
    {
     "data": {
      "text/plain": [
       "5"
      ]
     },
     "execution_count": 1,
     "metadata": {},
     "output_type": "execute_result"
    }
   ],
   "source": [
    "def number_of_word(sentence):\n",
    "    x = sentence.split()\n",
    "    return len(x)\n",
    "\n",
    "number_of_word(\"ha hi hu he ho\")"
   ]
  },
  {
   "cell_type": "markdown",
   "metadata": {},
   "source": [
    "## Task #2 - Find Multiple"
   ]
  },
  {
   "cell_type": "code",
   "execution_count": 2,
   "metadata": {},
   "outputs": [
    {
     "data": {
      "text/plain": [
       "[10, 15, 20, 25, 30, 35, 40, 45, 50, 55, 60, 65, 70, 75, 80, 85, 90]"
      ]
     },
     "execution_count": 2,
     "metadata": {},
     "output_type": "execute_result"
    }
   ],
   "source": [
    "def find_multiples(start_range, end_range, multiple):\n",
    "    multiple_list = []\n",
    "    for i in range(start_range, end_range + 1):\n",
    "        if i % multiple == 0:\n",
    "            multiple_list.append(i)\n",
    "\n",
    "    return multiple_list\n",
    "\n",
    "find_multiples(10,90,5)"
   ]
  },
  {
   "cell_type": "markdown",
   "metadata": {},
   "source": [
    "## Task #3 - Grade Converter"
   ]
  },
  {
   "cell_type": "code",
   "execution_count": 16,
   "metadata": {},
   "outputs": [],
   "source": [
    "def grade_converter(convert_to, **namaScore):\n",
    "    for nama, score in namaScore.items():\n",
    "        if convert_to.lower() == \"gpa\":\n",
    "            if score > 85:\n",
    "                namaScore[nama] = 4\n",
    "            elif score > 70:\n",
    "                namaScore[nama] = 3\n",
    "            elif score > 60:\n",
    "                namaScore[nama] = 2.5\n",
    "            elif score > 50:\n",
    "                namaScore[nama] = 2\n",
    "            elif score > 40:\n",
    "                namaScore[nama] = 1.5\n",
    "            else:\n",
    "                namaScore[nama] = 1\n",
    "\n",
    "        elif convert_to.lower() == \"grade\":\n",
    "            if score > 85:\n",
    "                namaScore[nama] = \"A\"\n",
    "            elif score > 70:\n",
    "                namaScore[nama] = \"B\"\n",
    "            elif score > 60:\n",
    "                namaScore[nama] = \"C\"\n",
    "            elif score > 50:\n",
    "                namaScore[nama] = \"D\"\n",
    "            elif score > 40:\n",
    "                namaScore[nama] = \"E\"\n",
    "            else:\n",
    "                namaScore[nama] = \"F\"\n",
    "\n",
    "        else:\n",
    "            return \"pilih ingin convert nilai ke 'gpa' atau 'grade'.\"\n",
    "\n",
    "\n",
    "    return namaScore\n"
   ]
  },
  {
   "cell_type": "code",
   "execution_count": 17,
   "metadata": {},
   "outputs": [
    {
     "data": {
      "text/plain": [
       "{'arif': 4, 'sasa': 2}"
      ]
     },
     "execution_count": 17,
     "metadata": {},
     "output_type": "execute_result"
    }
   ],
   "source": [
    "grade_converter(\"GPA\", arif=90, sasa=55)"
   ]
  },
  {
   "cell_type": "code",
   "execution_count": 14,
   "metadata": {},
   "outputs": [
    {
     "data": {
      "text/plain": [
       "{'arif': 'A', 'sasa': 'D'}"
      ]
     },
     "execution_count": 14,
     "metadata": {},
     "output_type": "execute_result"
    }
   ],
   "source": [
    "grade_converter(\"GRADE\", arif=90, sasa=55)"
   ]
  },
  {
   "cell_type": "code",
   "execution_count": 15,
   "metadata": {},
   "outputs": [
    {
     "data": {
      "text/plain": [
       "\"pilih ingin convert nilai ke 'gpa' atau 'grade'.\""
      ]
     },
     "execution_count": 15,
     "metadata": {},
     "output_type": "execute_result"
    }
   ],
   "source": [
    "grade_converter(\"GRAD\", arif=90, sasa=55)"
   ]
  },
  {
   "cell_type": "markdown",
   "metadata": {},
   "source": [
    "## Task #4 - Fibonacci Sequence"
   ]
  },
  {
   "cell_type": "code",
   "execution_count": 19,
   "metadata": {},
   "outputs": [],
   "source": [
    "def fibo_sequence(n):\n",
    "    if n < 0:\n",
    "        return (\"Masukkan angka positif\")\n",
    "    elif n == 0:\n",
    "        return 0\n",
    "    elif n == 1:\n",
    "        return 1\n",
    "    else:\n",
    "        return fibo_sequence(n-1) + fibo_sequence(n-2)\n",
    "    "
   ]
  },
  {
   "cell_type": "code",
   "execution_count": 20,
   "metadata": {},
   "outputs": [
    {
     "data": {
      "text/plain": [
       "21"
      ]
     },
     "execution_count": 20,
     "metadata": {},
     "output_type": "execute_result"
    }
   ],
   "source": [
    "fibo_sequence(8)"
   ]
  }
 ],
 "metadata": {
  "kernelspec": {
   "display_name": "base",
   "language": "python",
   "name": "python3"
  },
  "language_info": {
   "codemirror_mode": {
    "name": "ipython",
    "version": 3
   },
   "file_extension": ".py",
   "mimetype": "text/x-python",
   "name": "python",
   "nbconvert_exporter": "python",
   "pygments_lexer": "ipython3",
   "version": "3.12.4"
  }
 },
 "nbformat": 4,
 "nbformat_minor": 2
}
